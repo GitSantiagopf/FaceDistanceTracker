{
 "cells": [
  {
   "cell_type": "code",
   "execution_count": 3,
   "metadata": {},
   "outputs": [],
   "source": [
    "import cv2\n",
    "import cvzone\n",
    "from cvzone.FaceMeshModule import FaceMeshDetector"
   ]
  },
  {
   "cell_type": "code",
   "execution_count": 6,
   "metadata": {},
   "outputs": [],
   "source": [
    "cap = cv2.VideoCapture(0, cv2.CAP_DSHOW)\n",
    "detector = FaceMeshDetector(maxFaces=1)"
   ]
  },
  {
   "cell_type": "code",
   "execution_count": 3,
   "metadata": {},
   "outputs": [
    {
     "ename": "NameError",
     "evalue": "name 'cap' is not defined",
     "output_type": "error",
     "traceback": [
      "\u001b[1;31m---------------------------------------------------------------------------\u001b[0m",
      "\u001b[1;31mNameError\u001b[0m                                 Traceback (most recent call last)",
      "Cell \u001b[1;32mIn[3], line 2\u001b[0m\n\u001b[0;32m      1\u001b[0m \u001b[38;5;28;01mwhile\u001b[39;00m \u001b[38;5;28;01mTrue\u001b[39;00m:\n\u001b[1;32m----> 2\u001b[0m     ret, img \u001b[38;5;241m=\u001b[39m \u001b[43mcap\u001b[49m\u001b[38;5;241m.\u001b[39mread()\n\u001b[0;32m      3\u001b[0m     img, faces \u001b[38;5;241m=\u001b[39m detector\u001b[38;5;241m.\u001b[39mfindFaceMesh(img, draw\u001b[38;5;241m=\u001b[39m\u001b[38;5;28;01mFalse\u001b[39;00m)\n\u001b[0;32m      5\u001b[0m     \u001b[38;5;28;01mif\u001b[39;00m faces:\n",
      "\u001b[1;31mNameError\u001b[0m: name 'cap' is not defined"
     ]
    }
   ],
   "source": [
    "while True:\n",
    "    ret, img = cap.read()\n",
    "    img, faces = detector.findFaceMesh(img, draw=False)\n",
    "    \n",
    "    if faces:\n",
    "        face = faces[0]\n",
    "        \n",
    "        pointLeft = face[145]\n",
    "        pointRight = face[374]\n",
    "        \n",
    "        cv2.line(img, pointLeft, pointRight, (0, 200, 0), 3)\n",
    "        \n",
    "        cv2.circle(img, pointLeft, 5, (255, 0, 255), cv2.FILLED)\n",
    "        cv2.circle(img, pointRight, 5, (255, 0, 255), cv2.FILLED)\n",
    "        \n",
    "        w, _ = detector.findDistance(pointLeft, pointRight)\n",
    "        \n",
    "        \n",
    "        # Finding the Focal Length\n",
    "        W = 6.3\n",
    "        d = 50       \n",
    "        f = (w*d)/W\n",
    "        \n",
    "        print(f)\n",
    "        \n",
    "        # Finding distance\n",
    "        d = (W*f)/w\n",
    "        \n",
    "        print(d)\n",
    "        \n",
    "        cvzone.putTextRect(img, f'Depth: {d}cm', (face[10][0]-75, face[10][1]-50),\n",
    "                           scale = 2)                \n",
    "        \n",
    "                \n",
    "    cv2.imshow('Image', img)\n",
    "    cv2.waitKey(1)"
   ]
  },
  {
   "cell_type": "code",
   "execution_count": 9,
   "metadata": {},
   "outputs": [
    {
     "name": "stdout",
     "output_type": "stream",
     "text": [
      "Mostrando la cámara en el índice 0...\n",
      "No se pudo abrir la cámara en el índice 1\n"
     ]
    }
   ],
   "source": [
    "import cv2\n",
    "import time\n",
    "\n",
    "def test_camera(index):\n",
    "    cap = cv2.VideoCapture(index, cv2.CAP_DSHOW)  # Usando CAP_DSHOW para compatibilidad\n",
    "    if not cap.isOpened():\n",
    "        print(f\"No se pudo abrir la cámara en el índice {index}\")\n",
    "        return\n",
    "\n",
    "    print(f\"Mostrando la cámara en el índice {index}...\")\n",
    "    success, img = cap.read()\n",
    "    if success:\n",
    "        cv2.imshow(f'Cámara Índice {index}', img)\n",
    "        cv2.waitKey(3000)  # Muestra la imagen por 3000 milisegundos (3 segundos)\n",
    "    else:\n",
    "        print(f\"No se pudo capturar imagen en la cámara índice {index}\")\n",
    "\n",
    "    cap.release()\n",
    "    cv2.destroyAllWindows()\n",
    "\n",
    "# Prueba cada cámara disponible\n",
    "for index in [0, 1]:\n",
    "    test_camera(index)\n",
    "    time.sleep(1)  # Espera un segundo antes de probar la próxima cámara para evitar conflictos\n"
   ]
  },
  {
   "cell_type": "code",
   "execution_count": null,
   "metadata": {},
   "outputs": [],
   "source": []
  }
 ],
 "metadata": {
  "kernelspec": {
   "display_name": "FaceDistanceMeasurement",
   "language": "python",
   "name": "python3"
  },
  "language_info": {
   "codemirror_mode": {
    "name": "ipython",
    "version": 3
   },
   "file_extension": ".py",
   "mimetype": "text/x-python",
   "name": "python",
   "nbconvert_exporter": "python",
   "pygments_lexer": "ipython3",
   "version": "3.10.14"
  }
 },
 "nbformat": 4,
 "nbformat_minor": 2
}
